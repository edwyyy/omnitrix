{
 "cells": [
  {
   "cell_type": "code",
   "execution_count": 3,
   "id": "5011555d-b982-4564-a314-e90f379eeae1",
   "metadata": {},
   "outputs": [
    {
     "name": "stdout",
     "output_type": "stream",
     "text": [
      "updated list: [10, 20, 40, 45, 60]\n"
     ]
    }
   ],
   "source": [
    "#creating list\n",
    "my_list=[10,20,30,40,50]\n",
    "\n",
    "#adding an element to the list\n",
    "my_list.append(60)\n",
    "\n",
    "#removing an element from the list\n",
    "my_list.remove(30)\n",
    "\n",
    "#modifying an element in the list\n",
    "my_list[3]=45\n",
    "\n",
    "#output\n",
    "print(\"updated list:\",my_list)\n"
   ]
  },
  {
   "cell_type": "code",
   "execution_count": 2,
   "id": "d11a5223-5c28-48a0-b64f-d84446565bd5",
   "metadata": {},
   "outputs": [
    {
     "name": "stdout",
     "output_type": "stream",
     "text": [
      "updated dictinary {'bookid': 'a01', 'author': 'james clear', 'book': 'atomic habits', 'price': 800, 'age': 38}\n"
     ]
    }
   ],
   "source": [
    "#creating dictionary\n",
    "my_dictionary={'bookid':'a01','author':'james clear','book':'atomic habits','price':1200,'place':'ohio'}\n",
    "\n",
    "#adding an element\n",
    "my_dictionary['age']=38\n",
    "\n",
    "#removing an element\n",
    "del my_dictionary['place']\n",
    "\n",
    "#modifying the dictionary\n",
    "my_dictionary['price']=800\n",
    "\n",
    "print(\"updated dictinary\",my_dictionary)"
   ]
  },
  {
   "cell_type": "code",
   "execution_count": 3,
   "id": "bf39f966-b104-42ff-8b2d-1efe84e68e07",
   "metadata": {},
   "outputs": [
    {
     "name": "stdout",
     "output_type": "stream",
     "text": [
      "updated set: {1, 5, 7, 9, 11}\n"
     ]
    }
   ],
   "source": [
    "#creating a set\n",
    "my_set={1,3,6,7,9}\n",
    "\n",
    "#adding an element\n",
    "my_set.add(11)\n",
    "\n",
    "#removing an element\n",
    "my_set.remove(3)\n",
    "\n",
    "#modifying the set\n",
    "my_set.discard(6)\n",
    "my_set.add(5)\n",
    "\n",
    "#printing the set\n",
    "print(\"updated set:\",my_set)\n",
    "\n"
   ]
  },
  {
   "cell_type": "code",
   "execution_count": null,
   "id": "cfef6f27-2d8b-4e19-82e7-6732b5dae703",
   "metadata": {},
   "outputs": [],
   "source": []
  }
 ],
 "metadata": {
  "kernelspec": {
   "display_name": "Python 3 (ipykernel)",
   "language": "python",
   "name": "python3"
  },
  "language_info": {
   "codemirror_mode": {
    "name": "ipython",
    "version": 3
   },
   "file_extension": ".py",
   "mimetype": "text/x-python",
   "name": "python",
   "nbconvert_exporter": "python",
   "pygments_lexer": "ipython3",
   "version": "3.12.3"
  }
 },
 "nbformat": 4,
 "nbformat_minor": 5
}
